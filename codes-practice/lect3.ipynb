{
 "cells": [
  {
   "cell_type": "code",
   "execution_count": 4,
   "metadata": {},
   "outputs": [],
   "source": [
    "import cv2 as cv\n",
    "import numpy as np\n",
    "import matplotlib as plt\n",
    "original=cv.imread(\"images/tom.jpg\",cv.IMREAD_GRAYSCALE)\n",
    "assert original is not None\n",
    "smoothened = cv.GaussianBlur(original,(5,5),0).astype(np.float32)\n",
    "difference = original.astype(np.float32)-smoothened\n",
    "sharpened =cv.addWeighted(original.astype(np.float32),1,difference,1.5,0)\n",
    "\n",
    "#display all the images\n",
    "cv.namedWindow(\"Image\", cv.WINDOW_AUTOSIZE)\n",
    "cv.imshow(\"Image\", original)\n",
    "cv.waitKey(0)\n",
    "cv.imshow(\"Image\", smoothened)\n",
    "cv.waitKey(0)\n",
    "cv.imshow(\"Image\", difference)\n",
    "cv.waitKey(0)\n",
    "cv.imshow(\"Image\", sharpened)\n",
    "cv.waitKey(0)\n",
    "cv.destroyAllWindows()\n",
    "\n"
   ]
  }
 ],
 "metadata": {
  "kernelspec": {
   "display_name": "myenv",
   "language": "python",
   "name": "python3"
  },
  "language_info": {
   "codemirror_mode": {
    "name": "ipython",
    "version": 3
   },
   "file_extension": ".py",
   "mimetype": "text/x-python",
   "name": "python",
   "nbconvert_exporter": "python",
   "pygments_lexer": "ipython3",
   "version": "3.10.11"
  },
  "orig_nbformat": 4
 },
 "nbformat": 4,
 "nbformat_minor": 2
}
