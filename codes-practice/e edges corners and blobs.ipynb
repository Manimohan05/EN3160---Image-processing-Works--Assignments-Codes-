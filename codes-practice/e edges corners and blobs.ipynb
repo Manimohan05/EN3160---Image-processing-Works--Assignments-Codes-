{
 "cells": [
  {
   "cell_type": "markdown",
   "metadata": {},
   "source": [
    "**Gaussian Filtering a 1-D Noisy Image**"
   ]
  },
  {
   "cell_type": "code",
   "execution_count": 1,
   "metadata": {},
   "outputs": [
    {
     "ename": "AttributeError",
     "evalue": "'NoneType' object has no attribute 'shape'",
     "output_type": "error",
     "traceback": [
      "\u001b[1;31m---------------------------------------------------------------------------\u001b[0m",
      "\u001b[1;31mAttributeError\u001b[0m                            Traceback (most recent call last)",
      "\u001b[1;32mf:\\5.0semester-05\\5.EN3160 - Image Processing and Machine Vision\\EN3160 - Image processing Works (Assignments,Codes)\\codes-practice\\e edges corners and blobs.ipynb Cell 2\u001b[0m line \u001b[0;36m7\n\u001b[0;32m      <a href='vscode-notebook-cell:/f%3A/5.0semester-05/5.EN3160%20-%20Image%20Processing%20and%20Machine%20Vision/EN3160%20-%20Image%20processing%20Works%20%28Assignments%2CCodes%29/codes-practice/e%20edges%20corners%20and%20blobs.ipynb#W0sZmlsZQ%3D%3D?line=4'>5</a>\u001b[0m mean \u001b[39m=\u001b[39m \u001b[39m0\u001b[39m\n\u001b[0;32m      <a href='vscode-notebook-cell:/f%3A/5.0semester-05/5.EN3160%20-%20Image%20Processing%20and%20Machine%20Vision/EN3160%20-%20Image%20processing%20Works%20%28Assignments%2CCodes%29/codes-practice/e%20edges%20corners%20and%20blobs.ipynb#W0sZmlsZQ%3D%3D?line=5'>6</a>\u001b[0m sigma \u001b[39m=\u001b[39m \u001b[39m0.05\u001b[39m\n\u001b[1;32m----> <a href='vscode-notebook-cell:/f%3A/5.0semester-05/5.EN3160%20-%20Image%20Processing%20and%20Machine%20Vision/EN3160%20-%20Image%20processing%20Works%20%28Assignments%2CCodes%29/codes-practice/e%20edges%20corners%20and%20blobs.ipynb#W0sZmlsZQ%3D%3D?line=6'>7</a>\u001b[0m noise \u001b[39m=\u001b[39m np\u001b[39m.\u001b[39mrandom\u001b[39m.\u001b[39mnormal(mean,sigma,im\u001b[39m.\u001b[39mshape)\n\u001b[0;32m      <a href='vscode-notebook-cell:/f%3A/5.0semester-05/5.EN3160%20-%20Image%20Processing%20and%20Machine%20Vision/EN3160%20-%20Image%20processing%20Works%20%28Assignments%2CCodes%29/codes-practice/e%20edges%20corners%20and%20blobs.ipynb#W0sZmlsZQ%3D%3D?line=7'>8</a>\u001b[0m im \u001b[39m=\u001b[39m im\u001b[39m.\u001b[39mastype(np\u001b[39m.\u001b[39mfloat64)\u001b[39m/\u001b[39m\u001b[39m255.0\u001b[39m\n\u001b[0;32m     <a href='vscode-notebook-cell:/f%3A/5.0semester-05/5.EN3160%20-%20Image%20Processing%20and%20Machine%20Vision/EN3160%20-%20Image%20processing%20Works%20%28Assignments%2CCodes%29/codes-practice/e%20edges%20corners%20and%20blobs.ipynb#W0sZmlsZQ%3D%3D?line=9'>10</a>\u001b[0m im \u001b[39m=\u001b[39m cv\u001b[39m.\u001b[39madd(im, noise)\u001b[39m*\u001b[39m\u001b[39m255\u001b[39m\n",
      "\u001b[1;31mAttributeError\u001b[0m: 'NoneType' object has no attribute 'shape'"
     ]
    }
   ],
   "source": [
    "import cv2 as cv\n",
    "import numpy as np\n",
    "import matplotlib.pyplot as plt\n",
    "im = cv.imread('./images/stripe.png', cv.IMREAD_GRAYSCALE)\n",
    "mean = 0\n",
    "sigma = 0.05\n",
    "noise = np.random.normal(mean,sigma,im.shape)\n",
    "im = im.astype(np.float64)/255.0\n",
    "\n",
    "im = cv.add(im, noise)*255\n",
    "im = cv.normalize(im, None, 0, 255, cv.NORM_MINMAX)\n",
    "im = im.astype(np.uint8)\n",
    "\n",
    "f = im[150,:]\n",
    "kernel = np.array([-1, 0, 1])\n",
    "fx = cv.filter2D(f, cv.CV_32F, kernel)\n",
    "\n",
    "g = cv.getGaussianKernel(11, 5., cv.CV_64F)\n",
    "fgf = cv.filter2D(f, cv.CV_32F, g)\n",
    "fgfx = cv.filter2D(fgf, cv.CV_32F, kernel)\n",
    "\n",
    "cv.namedWindow('Image', cv.WINDOW_AUTOSIZE)\n",
    "cv.imshow('Image', im)\n",
    "cv.waitKey(0)\n",
    "cv.destroyAllWindows()\n",
    "\n",
    "\n",
    "fig, ax = plt.subplots(4, figsize=(10,16))\n",
    "ax[0].plot(f)\n",
    "ax[0].set_title('$f(x)$')\n",
    "ax[1].plot(fx)\n",
    "ax[1].set_title(r'$\\frac{f}{dx}f(x)$')\n",
    "ax[2].plot(fgf)\n",
    "ax[2].set_title(r'$g(x) \\ast f(x)$')\n",
    "ax[3].plot(fgfx)\n",
    "ax[2].set_title(r'$\\frac{f}{dx}g(x) \\ast f(x)$')\n",
    "plt.subplots_adjust(bottom=0.1, top=0.9, hspace=0.5)\n",
    "plt.show()"
   ]
  },
  {
   "cell_type": "code",
   "execution_count": null,
   "metadata": {},
   "outputs": [],
   "source": []
  }
 ],
 "metadata": {
  "kernelspec": {
   "display_name": "patrec",
   "language": "python",
   "name": "patrec"
  },
  "language_info": {
   "codemirror_mode": {
    "name": "ipython",
    "version": 3
   },
   "file_extension": ".py",
   "mimetype": "text/x-python",
   "name": "python",
   "nbconvert_exporter": "python",
   "pygments_lexer": "ipython3",
   "version": "3.11.4"
  }
 },
 "nbformat": 4,
 "nbformat_minor": 2
}
